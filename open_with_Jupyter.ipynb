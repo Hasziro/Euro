{
 "cells": [
  {
   "cell_type": "markdown",
   "id": "8ebeab3d",
   "metadata": {},
   "source": [
    "# Make sure to install the necessary libraries before running the code\n",
    "- pip install numpy pandas requests mysql-connector-python\n"
   ]
  },
  {
   "cell_type": "code",
   "execution_count": 1,
   "id": "3c25e58b",
   "metadata": {},
   "outputs": [],
   "source": [
    "# Import required libraries\n",
    "import csv\n",
    "import numpy as np\n",
    "import pandas as pd\n",
    "import os\n",
    "import requests\n",
    "import mysql.connector\n",
    "from datetime import datetime, timedelta"
   ]
  },
  {
   "cell_type": "code",
   "execution_count": 2,
   "id": "82fa2c64",
   "metadata": {},
   "outputs": [],
   "source": [
    "def download_file(url, destination):\n",
    "    response = requests.get(url)\n",
    "    with open(destination, 'wb') as file:\n",
    "        file.write(response.content)\n"
   ]
  },
  {
   "cell_type": "code",
   "execution_count": 3,
   "id": "47316d7e",
   "metadata": {},
   "outputs": [
    {
     "name": "stdout",
     "output_type": "stream",
     "text": [
      "File was saved as C:\\Users\\48575\\jupyter_netbook_curs\\portfolio\\euro\\eurpln_d.csv\n"
     ]
    }
   ],
   "source": [
    "if __name__ == \"__main__\":\n",
    "    # Download CSV file\n",
    "    file_url = \"https://stooq.pl/q/d/l/?s=eurpln&i=d\"\n",
    "    current_directory = os.getcwd()\n",
    "    destination_path = os.path.join(current_directory, \"eurpln_d.csv\")\n",
    "    download_file(file_url, destination_path)\n",
    "    print(f\"File was saved as {destination_path}\")\n"
   ]
  },
  {
   "cell_type": "markdown",
   "id": "f5beee7b",
   "metadata": {},
   "source": [
    "# Read CSV file into a DataFrame"
   ]
  },
  {
   "cell_type": "code",
   "execution_count": 4,
   "id": "0f9270e8",
   "metadata": {},
   "outputs": [],
   "source": [
    "df = pd.read_csv(destination_path, encoding='latin-1', sep=',')"
   ]
  },
  {
   "cell_type": "code",
   "execution_count": 5,
   "id": "2e7bb295",
   "metadata": {},
   "outputs": [
    {
     "data": {
      "text/html": [
       "<div>\n",
       "<style scoped>\n",
       "    .dataframe tbody tr th:only-of-type {\n",
       "        vertical-align: middle;\n",
       "    }\n",
       "\n",
       "    .dataframe tbody tr th {\n",
       "        vertical-align: top;\n",
       "    }\n",
       "\n",
       "    .dataframe thead th {\n",
       "        text-align: right;\n",
       "    }\n",
       "</style>\n",
       "<table border=\"1\" class=\"dataframe\">\n",
       "  <thead>\n",
       "    <tr style=\"text-align: right;\">\n",
       "      <th></th>\n",
       "      <th>Data</th>\n",
       "      <th>Otwarcie</th>\n",
       "      <th>Najwyzszy</th>\n",
       "      <th>Najnizszy</th>\n",
       "      <th>Zamkniecie</th>\n",
       "    </tr>\n",
       "  </thead>\n",
       "  <tbody>\n",
       "    <tr>\n",
       "      <th>0</th>\n",
       "      <td>1984-09-24</td>\n",
       "      <td>0.00920</td>\n",
       "      <td>0.00920</td>\n",
       "      <td>0.00920</td>\n",
       "      <td>0.00920</td>\n",
       "    </tr>\n",
       "    <tr>\n",
       "      <th>1</th>\n",
       "      <td>1984-10-01</td>\n",
       "      <td>0.00940</td>\n",
       "      <td>0.00940</td>\n",
       "      <td>0.00940</td>\n",
       "      <td>0.00940</td>\n",
       "    </tr>\n",
       "    <tr>\n",
       "      <th>2</th>\n",
       "      <td>1984-10-08</td>\n",
       "      <td>0.00920</td>\n",
       "      <td>0.00920</td>\n",
       "      <td>0.00920</td>\n",
       "      <td>0.00920</td>\n",
       "    </tr>\n",
       "    <tr>\n",
       "      <th>3</th>\n",
       "      <td>1984-10-15</td>\n",
       "      <td>0.00920</td>\n",
       "      <td>0.00920</td>\n",
       "      <td>0.00920</td>\n",
       "      <td>0.00920</td>\n",
       "    </tr>\n",
       "    <tr>\n",
       "      <th>4</th>\n",
       "      <td>1984-10-22</td>\n",
       "      <td>0.00900</td>\n",
       "      <td>0.00900</td>\n",
       "      <td>0.00900</td>\n",
       "      <td>0.00900</td>\n",
       "    </tr>\n",
       "    <tr>\n",
       "      <th>...</th>\n",
       "      <td>...</td>\n",
       "      <td>...</td>\n",
       "      <td>...</td>\n",
       "      <td>...</td>\n",
       "      <td>...</td>\n",
       "    </tr>\n",
       "    <tr>\n",
       "      <th>8804</th>\n",
       "      <td>2024-01-15</td>\n",
       "      <td>4.35621</td>\n",
       "      <td>4.37789</td>\n",
       "      <td>4.35391</td>\n",
       "      <td>4.37018</td>\n",
       "    </tr>\n",
       "    <tr>\n",
       "      <th>8805</th>\n",
       "      <td>2024-01-16</td>\n",
       "      <td>4.37024</td>\n",
       "      <td>4.39714</td>\n",
       "      <td>4.36982</td>\n",
       "      <td>4.39042</td>\n",
       "    </tr>\n",
       "    <tr>\n",
       "      <th>8806</th>\n",
       "      <td>2024-01-17</td>\n",
       "      <td>4.39055</td>\n",
       "      <td>4.41251</td>\n",
       "      <td>4.38390</td>\n",
       "      <td>4.39394</td>\n",
       "    </tr>\n",
       "    <tr>\n",
       "      <th>8807</th>\n",
       "      <td>2024-01-18</td>\n",
       "      <td>4.39414</td>\n",
       "      <td>4.41051</td>\n",
       "      <td>4.38420</td>\n",
       "      <td>4.38475</td>\n",
       "    </tr>\n",
       "    <tr>\n",
       "      <th>8808</th>\n",
       "      <td>2024-01-19</td>\n",
       "      <td>4.38662</td>\n",
       "      <td>4.38662</td>\n",
       "      <td>4.38410</td>\n",
       "      <td>4.38423</td>\n",
       "    </tr>\n",
       "  </tbody>\n",
       "</table>\n",
       "<p>8809 rows × 5 columns</p>\n",
       "</div>"
      ],
      "text/plain": [
       "            Data  Otwarcie  Najwyzszy  Najnizszy  Zamkniecie\n",
       "0     1984-09-24   0.00920    0.00920    0.00920     0.00920\n",
       "1     1984-10-01   0.00940    0.00940    0.00940     0.00940\n",
       "2     1984-10-08   0.00920    0.00920    0.00920     0.00920\n",
       "3     1984-10-15   0.00920    0.00920    0.00920     0.00920\n",
       "4     1984-10-22   0.00900    0.00900    0.00900     0.00900\n",
       "...          ...       ...        ...        ...         ...\n",
       "8804  2024-01-15   4.35621    4.37789    4.35391     4.37018\n",
       "8805  2024-01-16   4.37024    4.39714    4.36982     4.39042\n",
       "8806  2024-01-17   4.39055    4.41251    4.38390     4.39394\n",
       "8807  2024-01-18   4.39414    4.41051    4.38420     4.38475\n",
       "8808  2024-01-19   4.38662    4.38662    4.38410     4.38423\n",
       "\n",
       "[8809 rows x 5 columns]"
      ]
     },
     "execution_count": 5,
     "metadata": {},
     "output_type": "execute_result"
    }
   ],
   "source": [
    "df"
   ]
  },
  {
   "cell_type": "markdown",
   "id": "72cd1f98",
   "metadata": {},
   "source": [
    "# Perform data manipulations"
   ]
  },
  {
   "cell_type": "code",
   "execution_count": 6,
   "id": "69df36b3",
   "metadata": {},
   "outputs": [],
   "source": [
    "# creating colums (DzienTygodnia\tSkrotDzienTygodnia\tMonth\tShort_Month)\n",
    "df['Data'] = pd.to_datetime(df['Data'])\n",
    "df['DzienTygodnia'] = df['Data'].apply(lambda date: date.strftime('%A'))\n",
    "df['SkrotDzienTygodnia'] = df['DzienTygodnia'].str[:3]\n",
    "df['Month'] = df['Data'].dt.strftime('%B')\n",
    "df['Short_Month'] = df['Month'].str[:3]\n",
    "df = df.sort_values(by='Data', ascending=False)"
   ]
  },
  {
   "cell_type": "code",
   "execution_count": 7,
   "id": "d6dbff3e",
   "metadata": {},
   "outputs": [],
   "source": [
    "#creating colum mean \n",
    "df['mean'] = df[['Otwarcie', 'Najwyzszy', 'Najnizszy', 'Zamkniecie']].mean(axis=1)"
   ]
  },
  {
   "cell_type": "code",
   "execution_count": 8,
   "id": "342ab698",
   "metadata": {},
   "outputs": [],
   "source": [
    "\n",
    "df['Data'] = pd.to_datetime(df['Data'])\n",
    "df = df.sort_values(by='Data', ascending=False)\n",
    "\n",
    "# count mean from last 30 days\n",
    "end_date_30 = df['Data'].iloc[0]\n",
    "start_date_30 = end_date_30 - timedelta(days=29)\n",
    "\n",
    "last_30_days = df[(df['Data'] >= start_date_30) & (df['Data'] <= end_date_30)]\n",
    "average_closing_price_30 = last_30_days['Zamkniecie'].mean()\n",
    "\n",
    "# count mean from last 60 days\n",
    "end_date_60 = df['Data'].iloc[0]\n",
    "start_date_60 = end_date_60 - timedelta(days=59)\n",
    "\n",
    "last_60_days = df[(df['Data'] >= start_date_60) & (df['Data'] <= end_date_60)]\n",
    "average_closing_price_60 = last_60_days['Zamkniecie'].mean()\n",
    "# count mean from last 60 days\n",
    "end_date_90 = df['Data'].iloc[0]\n",
    "start_date_90 = end_date_90 - timedelta(days=89)\n",
    "\n",
    "last_90_days = df[(df['Data'] >= start_date_90) & (df['Data'] <= end_date_90)]\n",
    "average_closing_price_90 = last_90_days['Zamkniecie'].mean()\n",
    "\n",
    "# adding data\n",
    "df.loc[df.index[0], 'Srednia_30_dni'] = average_closing_price_30\n",
    "df.loc[df.index[0], 'Srednia_60_dni'] = average_closing_price_60\n",
    "df.loc[df.index[0], 'Srednia_90_dni'] = average_closing_price_90\n",
    "# finding max_val from colum Zamkniecie and insert into new colum\n",
    "half_year_ago = datetime.now() - timedelta(days=365 / 2)\n",
    "df['max_val_6_month'] = df['Data'] > half_year_ago\n",
    "last_half_year_df = df[df['max_val_6_month']]\n",
    "max_value_last_half_year = last_half_year_df['Zamkniecie'].max()\n",
    "df.loc[df.index[0], 'max_val_6_month'] = max_value_last_half_year"
   ]
  },
  {
   "cell_type": "code",
   "execution_count": 9,
   "id": "6538c8a9",
   "metadata": {},
   "outputs": [
    {
     "data": {
      "text/html": [
       "<div>\n",
       "<style scoped>\n",
       "    .dataframe tbody tr th:only-of-type {\n",
       "        vertical-align: middle;\n",
       "    }\n",
       "\n",
       "    .dataframe tbody tr th {\n",
       "        vertical-align: top;\n",
       "    }\n",
       "\n",
       "    .dataframe thead th {\n",
       "        text-align: right;\n",
       "    }\n",
       "</style>\n",
       "<table border=\"1\" class=\"dataframe\">\n",
       "  <thead>\n",
       "    <tr style=\"text-align: right;\">\n",
       "      <th></th>\n",
       "      <th>Data</th>\n",
       "      <th>Otwarcie</th>\n",
       "      <th>Najwyzszy</th>\n",
       "      <th>Najnizszy</th>\n",
       "      <th>Zamkniecie</th>\n",
       "      <th>DzienTygodnia</th>\n",
       "      <th>SkrotDzienTygodnia</th>\n",
       "      <th>Month</th>\n",
       "      <th>Short_Month</th>\n",
       "      <th>mean</th>\n",
       "      <th>Srednia_30_dni</th>\n",
       "      <th>Srednia_60_dni</th>\n",
       "      <th>Srednia_90_dni</th>\n",
       "      <th>max_val_6_month</th>\n",
       "    </tr>\n",
       "  </thead>\n",
       "  <tbody>\n",
       "    <tr>\n",
       "      <th>8808</th>\n",
       "      <td>2024-01-19</td>\n",
       "      <td>4.38662</td>\n",
       "      <td>4.38662</td>\n",
       "      <td>4.38410</td>\n",
       "      <td>4.38423</td>\n",
       "      <td>Friday</td>\n",
       "      <td>Fri</td>\n",
       "      <td>January</td>\n",
       "      <td>Jan</td>\n",
       "      <td>4.385393</td>\n",
       "      <td>4.353554</td>\n",
       "      <td>4.345067</td>\n",
       "      <td>4.375242</td>\n",
       "      <td>4.66104</td>\n",
       "    </tr>\n",
       "    <tr>\n",
       "      <th>8807</th>\n",
       "      <td>2024-01-18</td>\n",
       "      <td>4.39414</td>\n",
       "      <td>4.41051</td>\n",
       "      <td>4.38420</td>\n",
       "      <td>4.38475</td>\n",
       "      <td>Thursday</td>\n",
       "      <td>Thu</td>\n",
       "      <td>January</td>\n",
       "      <td>Jan</td>\n",
       "      <td>4.393400</td>\n",
       "      <td>NaN</td>\n",
       "      <td>NaN</td>\n",
       "      <td>NaN</td>\n",
       "      <td>True</td>\n",
       "    </tr>\n",
       "    <tr>\n",
       "      <th>8806</th>\n",
       "      <td>2024-01-17</td>\n",
       "      <td>4.39055</td>\n",
       "      <td>4.41251</td>\n",
       "      <td>4.38390</td>\n",
       "      <td>4.39394</td>\n",
       "      <td>Wednesday</td>\n",
       "      <td>Wed</td>\n",
       "      <td>January</td>\n",
       "      <td>Jan</td>\n",
       "      <td>4.395225</td>\n",
       "      <td>NaN</td>\n",
       "      <td>NaN</td>\n",
       "      <td>NaN</td>\n",
       "      <td>True</td>\n",
       "    </tr>\n",
       "    <tr>\n",
       "      <th>8805</th>\n",
       "      <td>2024-01-16</td>\n",
       "      <td>4.37024</td>\n",
       "      <td>4.39714</td>\n",
       "      <td>4.36982</td>\n",
       "      <td>4.39042</td>\n",
       "      <td>Tuesday</td>\n",
       "      <td>Tue</td>\n",
       "      <td>January</td>\n",
       "      <td>Jan</td>\n",
       "      <td>4.381905</td>\n",
       "      <td>NaN</td>\n",
       "      <td>NaN</td>\n",
       "      <td>NaN</td>\n",
       "      <td>True</td>\n",
       "    </tr>\n",
       "    <tr>\n",
       "      <th>8804</th>\n",
       "      <td>2024-01-15</td>\n",
       "      <td>4.35621</td>\n",
       "      <td>4.37789</td>\n",
       "      <td>4.35391</td>\n",
       "      <td>4.37018</td>\n",
       "      <td>Monday</td>\n",
       "      <td>Mon</td>\n",
       "      <td>January</td>\n",
       "      <td>Jan</td>\n",
       "      <td>4.364548</td>\n",
       "      <td>NaN</td>\n",
       "      <td>NaN</td>\n",
       "      <td>NaN</td>\n",
       "      <td>True</td>\n",
       "    </tr>\n",
       "    <tr>\n",
       "      <th>...</th>\n",
       "      <td>...</td>\n",
       "      <td>...</td>\n",
       "      <td>...</td>\n",
       "      <td>...</td>\n",
       "      <td>...</td>\n",
       "      <td>...</td>\n",
       "      <td>...</td>\n",
       "      <td>...</td>\n",
       "      <td>...</td>\n",
       "      <td>...</td>\n",
       "      <td>...</td>\n",
       "      <td>...</td>\n",
       "      <td>...</td>\n",
       "      <td>...</td>\n",
       "    </tr>\n",
       "    <tr>\n",
       "      <th>4</th>\n",
       "      <td>1984-10-22</td>\n",
       "      <td>0.00900</td>\n",
       "      <td>0.00900</td>\n",
       "      <td>0.00900</td>\n",
       "      <td>0.00900</td>\n",
       "      <td>Monday</td>\n",
       "      <td>Mon</td>\n",
       "      <td>October</td>\n",
       "      <td>Oct</td>\n",
       "      <td>0.009000</td>\n",
       "      <td>NaN</td>\n",
       "      <td>NaN</td>\n",
       "      <td>NaN</td>\n",
       "      <td>False</td>\n",
       "    </tr>\n",
       "    <tr>\n",
       "      <th>3</th>\n",
       "      <td>1984-10-15</td>\n",
       "      <td>0.00920</td>\n",
       "      <td>0.00920</td>\n",
       "      <td>0.00920</td>\n",
       "      <td>0.00920</td>\n",
       "      <td>Monday</td>\n",
       "      <td>Mon</td>\n",
       "      <td>October</td>\n",
       "      <td>Oct</td>\n",
       "      <td>0.009200</td>\n",
       "      <td>NaN</td>\n",
       "      <td>NaN</td>\n",
       "      <td>NaN</td>\n",
       "      <td>False</td>\n",
       "    </tr>\n",
       "    <tr>\n",
       "      <th>2</th>\n",
       "      <td>1984-10-08</td>\n",
       "      <td>0.00920</td>\n",
       "      <td>0.00920</td>\n",
       "      <td>0.00920</td>\n",
       "      <td>0.00920</td>\n",
       "      <td>Monday</td>\n",
       "      <td>Mon</td>\n",
       "      <td>October</td>\n",
       "      <td>Oct</td>\n",
       "      <td>0.009200</td>\n",
       "      <td>NaN</td>\n",
       "      <td>NaN</td>\n",
       "      <td>NaN</td>\n",
       "      <td>False</td>\n",
       "    </tr>\n",
       "    <tr>\n",
       "      <th>1</th>\n",
       "      <td>1984-10-01</td>\n",
       "      <td>0.00940</td>\n",
       "      <td>0.00940</td>\n",
       "      <td>0.00940</td>\n",
       "      <td>0.00940</td>\n",
       "      <td>Monday</td>\n",
       "      <td>Mon</td>\n",
       "      <td>October</td>\n",
       "      <td>Oct</td>\n",
       "      <td>0.009400</td>\n",
       "      <td>NaN</td>\n",
       "      <td>NaN</td>\n",
       "      <td>NaN</td>\n",
       "      <td>False</td>\n",
       "    </tr>\n",
       "    <tr>\n",
       "      <th>0</th>\n",
       "      <td>1984-09-24</td>\n",
       "      <td>0.00920</td>\n",
       "      <td>0.00920</td>\n",
       "      <td>0.00920</td>\n",
       "      <td>0.00920</td>\n",
       "      <td>Monday</td>\n",
       "      <td>Mon</td>\n",
       "      <td>September</td>\n",
       "      <td>Sep</td>\n",
       "      <td>0.009200</td>\n",
       "      <td>NaN</td>\n",
       "      <td>NaN</td>\n",
       "      <td>NaN</td>\n",
       "      <td>False</td>\n",
       "    </tr>\n",
       "  </tbody>\n",
       "</table>\n",
       "<p>8809 rows × 14 columns</p>\n",
       "</div>"
      ],
      "text/plain": [
       "           Data  Otwarcie  Najwyzszy  Najnizszy  Zamkniecie DzienTygodnia  \\\n",
       "8808 2024-01-19   4.38662    4.38662    4.38410     4.38423        Friday   \n",
       "8807 2024-01-18   4.39414    4.41051    4.38420     4.38475      Thursday   \n",
       "8806 2024-01-17   4.39055    4.41251    4.38390     4.39394     Wednesday   \n",
       "8805 2024-01-16   4.37024    4.39714    4.36982     4.39042       Tuesday   \n",
       "8804 2024-01-15   4.35621    4.37789    4.35391     4.37018        Monday   \n",
       "...         ...       ...        ...        ...         ...           ...   \n",
       "4    1984-10-22   0.00900    0.00900    0.00900     0.00900        Monday   \n",
       "3    1984-10-15   0.00920    0.00920    0.00920     0.00920        Monday   \n",
       "2    1984-10-08   0.00920    0.00920    0.00920     0.00920        Monday   \n",
       "1    1984-10-01   0.00940    0.00940    0.00940     0.00940        Monday   \n",
       "0    1984-09-24   0.00920    0.00920    0.00920     0.00920        Monday   \n",
       "\n",
       "     SkrotDzienTygodnia      Month Short_Month      mean  Srednia_30_dni  \\\n",
       "8808                Fri    January         Jan  4.385393        4.353554   \n",
       "8807                Thu    January         Jan  4.393400             NaN   \n",
       "8806                Wed    January         Jan  4.395225             NaN   \n",
       "8805                Tue    January         Jan  4.381905             NaN   \n",
       "8804                Mon    January         Jan  4.364548             NaN   \n",
       "...                 ...        ...         ...       ...             ...   \n",
       "4                   Mon    October         Oct  0.009000             NaN   \n",
       "3                   Mon    October         Oct  0.009200             NaN   \n",
       "2                   Mon    October         Oct  0.009200             NaN   \n",
       "1                   Mon    October         Oct  0.009400             NaN   \n",
       "0                   Mon  September         Sep  0.009200             NaN   \n",
       "\n",
       "      Srednia_60_dni  Srednia_90_dni max_val_6_month  \n",
       "8808        4.345067        4.375242         4.66104  \n",
       "8807             NaN             NaN            True  \n",
       "8806             NaN             NaN            True  \n",
       "8805             NaN             NaN            True  \n",
       "8804             NaN             NaN            True  \n",
       "...              ...             ...             ...  \n",
       "4                NaN             NaN           False  \n",
       "3                NaN             NaN           False  \n",
       "2                NaN             NaN           False  \n",
       "1                NaN             NaN           False  \n",
       "0                NaN             NaN           False  \n",
       "\n",
       "[8809 rows x 14 columns]"
      ]
     },
     "execution_count": 9,
     "metadata": {},
     "output_type": "execute_result"
    }
   ],
   "source": [
    "df"
   ]
  },
  {
   "cell_type": "markdown",
   "id": "b20b7116",
   "metadata": {},
   "source": [
    "# Describe the DataFrame"
   ]
  },
  {
   "cell_type": "code",
   "execution_count": 10,
   "id": "7ff4d93d",
   "metadata": {},
   "outputs": [
    {
     "name": "stdout",
     "output_type": "stream",
     "text": [
      "                 count      mean       std       min       25%       50%  \\\n",
      "Otwarcie        8809.0  3.701006  1.043879  0.009000  3.581800  4.078400   \n",
      "Najwyzszy       8809.0  3.713750  1.049917  0.009000  3.591400  4.097900   \n",
      "Najnizszy       8809.0  3.689837  1.038609  0.009000  3.572400  4.061500   \n",
      "Zamkniecie      8809.0  3.701236  1.043985  0.009000  3.580600  4.079900   \n",
      "mean            8809.0  3.701457  1.044047  0.009000  3.581775  4.080075   \n",
      "Srednia_30_dni     1.0  4.353554       NaN  4.353554  4.353554  4.353554   \n",
      "Srednia_60_dni     1.0  4.345067       NaN  4.345067  4.345067  4.345067   \n",
      "Srednia_90_dni     1.0  4.375242       NaN  4.375242  4.375242  4.375242   \n",
      "\n",
      "                     75%       max  \n",
      "Otwarcie        4.296680  4.981930  \n",
      "Najwyzszy       4.309820  5.003410  \n",
      "Najnizszy       4.287110  4.905920  \n",
      "Zamkniecie      4.296970  4.981450  \n",
      "mean            4.297092  4.949192  \n",
      "Srednia_30_dni  4.353554  4.353554  \n",
      "Srednia_60_dni  4.345067  4.345067  \n",
      "Srednia_90_dni  4.375242  4.375242  \n"
     ]
    }
   ],
   "source": [
    "des = df.describe().transpose()\n",
    "print(des)"
   ]
  },
  {
   "cell_type": "markdown",
   "id": "620dc494",
   "metadata": {},
   "source": [
    "# Check missing values"
   ]
  },
  {
   "cell_type": "code",
   "execution_count": 11,
   "id": "68fdae6f",
   "metadata": {},
   "outputs": [
    {
     "name": "stdout",
     "output_type": "stream",
     "text": [
      "Data                     0\n",
      "Otwarcie                 0\n",
      "Najwyzszy                0\n",
      "Najnizszy                0\n",
      "Zamkniecie               0\n",
      "DzienTygodnia            0\n",
      "SkrotDzienTygodnia       0\n",
      "Month                    0\n",
      "Short_Month              0\n",
      "mean                     0\n",
      "Srednia_30_dni        8808\n",
      "Srednia_60_dni        8808\n",
      "Srednia_90_dni        8808\n",
      "max_val_6_month          0\n",
      "dtype: int64\n"
     ]
    }
   ],
   "source": [
    "missing_values = df.isnull().sum()\n",
    "print(missing_values)"
   ]
  },
  {
   "cell_type": "markdown",
   "id": "8ee68b1f",
   "metadata": {},
   "source": [
    "# Check data types\n",
    "be sure u have same types of data in ur sql "
   ]
  },
  {
   "cell_type": "code",
   "execution_count": 12,
   "id": "b98a95d4",
   "metadata": {
    "scrolled": true
   },
   "outputs": [
    {
     "name": "stdout",
     "output_type": "stream",
     "text": [
      "Data                  datetime64[ns]\n",
      "Otwarcie                     float64\n",
      "Najwyzszy                    float64\n",
      "Najnizszy                    float64\n",
      "Zamkniecie                   float64\n",
      "DzienTygodnia                 object\n",
      "SkrotDzienTygodnia            object\n",
      "Month                         object\n",
      "Short_Month                   object\n",
      "mean                         float64\n",
      "Srednia_30_dni               float64\n",
      "Srednia_60_dni               float64\n",
      "Srednia_90_dni               float64\n",
      "max_val_6_month               object\n",
      "dtype: object\n"
     ]
    }
   ],
   "source": [
    "data_types = df.dtypes\n",
    "print(data_types)\n"
   ]
  },
  {
   "cell_type": "markdown",
   "id": "3ac26dc2",
   "metadata": {},
   "source": [
    "# Export DataFrame to a text file"
   ]
  },
  {
   "cell_type": "code",
   "execution_count": 13,
   "id": "66027257",
   "metadata": {},
   "outputs": [],
   "source": [
    "y = [tuple(row) for row in df.to_records(index=False)]\n",
    "with open('file_import.txt', 'w') as file:\n",
    "        for row_tuple in y:\n",
    "            file.write(str(row_tuple) + ',\\n')\n"
   ]
  },
  {
   "cell_type": "markdown",
   "id": "c938890a",
   "metadata": {},
   "source": [
    "# Connect to MySQL database\n",
    "- Host: [**Your Host IP**]\n",
    "- Port:port 2 connect\n",
    "- User: root\n",
    "- Password: [**Your Password**] (or No password if empty)\n",
    "- Database: Name of database"
   ]
  },
  {
   "cell_type": "code",
   "execution_count": 14,
   "id": "f6094050",
   "metadata": {},
   "outputs": [],
   "source": [
    "conn = mysql.connector.connect(\n",
    "    host='127.0.0.1',\n",
    "    port=3306,\n",
    "    user='root',\n",
    "    password='',\n",
    "    database='Euro'\n",
    ")"
   ]
  },
  {
   "cell_type": "code",
   "execution_count": 15,
   "id": "a04475f3",
   "metadata": {},
   "outputs": [],
   "source": [
    "cursor = conn.cursor()"
   ]
  },
  {
   "cell_type": "markdown",
   "id": "071a414a",
   "metadata": {},
   "source": [
    "# Truncate existing table\n",
    "- (Name of ur table in data_base)"
   ]
  },
  {
   "cell_type": "code",
   "execution_count": 16,
   "id": "d0bf2a26",
   "metadata": {},
   "outputs": [],
   "source": [
    "cursor.execute(\"TRUNCATE TABLE euro_kurs\")"
   ]
  },
  {
   "cell_type": "markdown",
   "id": "cbbf31a9",
   "metadata": {},
   "source": [
    "# Prepare and execute SQL INSERT statement\n",
    "- make sure u have same numbers of columns - %s "
   ]
  },
  {
   "cell_type": "code",
   "execution_count": 17,
   "id": "99400fb3",
   "metadata": {},
   "outputs": [],
   "source": [
    "sql = \"INSERT INTO euro_kurs VALUES (%s, %s, %s, %s, %s, %s, %s, %s, %s, %s, %s, %s, %s, %s)\""
   ]
  },
  {
   "cell_type": "markdown",
   "id": "e123d9c8",
   "metadata": {},
   "source": [
    "# Execute the SQL statement using your MySQL connection"
   ]
  },
  {
   "cell_type": "code",
   "execution_count": 18,
   "id": "986aa8f9",
   "metadata": {},
   "outputs": [],
   "source": [
    "for row_tuple in y:\n",
    "    # Convert datetime64 to native Python datetime\n",
    "    row_tuple = tuple(\n",
    "        pd.to_datetime(val).to_pydatetime() if isinstance(val, np.datetime64) else val\n",
    "        if not isinstance(val, (np.float64, np.int64)) else float(val)\n",
    "        for val in row_tuple\n",
    "    )\n",
    "    cursor.execute(sql, row_tuple)"
   ]
  },
  {
   "cell_type": "markdown",
   "id": "6f157aa0",
   "metadata": {},
   "source": [
    "# Commit the changes to the database\n"
   ]
  },
  {
   "cell_type": "code",
   "execution_count": 19,
   "id": "db3be66e",
   "metadata": {},
   "outputs": [],
   "source": [
    "conn.commit()"
   ]
  },
  {
   "cell_type": "markdown",
   "id": "85753c0c",
   "metadata": {},
   "source": [
    "# Close the cursor and connection\n"
   ]
  },
  {
   "cell_type": "code",
   "execution_count": 20,
   "id": "3dc3f7af",
   "metadata": {},
   "outputs": [],
   "source": [
    "cursor.close()\n",
    "conn.close()"
   ]
  },
  {
   "cell_type": "code",
   "execution_count": null,
   "id": "de767f5c",
   "metadata": {},
   "outputs": [],
   "source": []
  },
  {
   "cell_type": "code",
   "execution_count": null,
   "id": "8ab2b69b",
   "metadata": {},
   "outputs": [],
   "source": [
    "\n"
   ]
  },
  {
   "cell_type": "code",
   "execution_count": null,
   "id": "af4d7bc7-bb90-4265-8d18-01445dbaf4df",
   "metadata": {},
   "outputs": [],
   "source": []
  },
  {
   "cell_type": "code",
   "execution_count": null,
   "id": "df6f7a7e-95be-46ce-bf9c-e42c7fef7ec4",
   "metadata": {},
   "outputs": [],
   "source": []
  },
  {
   "cell_type": "code",
   "execution_count": null,
   "id": "1a5250b9-e9b7-4df0-bdcf-11d9ed8d2d76",
   "metadata": {},
   "outputs": [],
   "source": []
  }
 ],
 "metadata": {
  "kernelspec": {
   "display_name": "Python 3 (ipykernel)",
   "language": "python",
   "name": "python3"
  },
  "language_info": {
   "codemirror_mode": {
    "name": "ipython",
    "version": 3
   },
   "file_extension": ".py",
   "mimetype": "text/x-python",
   "name": "python",
   "nbconvert_exporter": "python",
   "pygments_lexer": "ipython3",
   "version": "3.11.5"
  }
 },
 "nbformat": 4,
 "nbformat_minor": 5
}
