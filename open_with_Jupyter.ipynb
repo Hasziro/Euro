{
 "cells": [
  {
   "cell_type": "markdown",
   "id": "95284261-724b-4ccc-a4fc-829384d2c90c",
   "metadata": {},
   "source": [
    "# Make sure to install the necessary libraries before running the code\n",
    "!pip install numpy pandas requests mysql-connector-python\n"
   ]
  },
  {
   "cell_type": "code",
   "execution_count": 1,
   "id": "3c25e58b",
   "metadata": {},
   "outputs": [],
   "source": [
    "# Import required libraries\n",
    "import csv\n",
    "import numpy as np\n",
    "import pandas as pd\n",
    "import os\n",
    "import requests\n",
    "import mysql.connector\n",
    "from datetime import datetime, timedelta"
   ]
  },
  {
   "cell_type": "code",
   "execution_count": 2,
   "id": "82fa2c64",
   "metadata": {},
   "outputs": [],
   "source": [
    "def download_file(url, destination):\n",
    "    response = requests.get(url)\n",
    "    with open(destination, 'wb') as file:\n",
    "        file.write(response.content)\n"
   ]
  },
  {
   "cell_type": "code",
   "execution_count": 3,
   "id": "47316d7e",
   "metadata": {},
   "outputs": [
    {
     "name": "stdout",
     "output_type": "stream",
     "text": [
      "File was saved as C:\\Users\\48575\\jupyter_netbook_curs\\portfolio\\euro\\eurpln_d.csv\n"
     ]
    }
   ],
   "source": [
    "if __name__ == \"__main__\":\n",
    "    # Download CSV file\n",
    "    file_url = \"https://stooq.pl/q/d/l/?s=eurpln&i=d\"\n",
    "    current_directory = os.getcwd()\n",
    "    destination_path = os.path.join(current_directory, \"eurpln_d.csv\")\n",
    "    download_file(file_url, destination_path)\n",
    "    print(f\"File was saved as {destination_path}\")\n"
   ]
  },
  {
   "cell_type": "markdown",
   "id": "f5beee7b",
   "metadata": {},
   "source": [
    "# Read CSV file into a DataFrame"
   ]
  },
  {
   "cell_type": "code",
   "execution_count": 4,
   "id": "0f9270e8",
   "metadata": {},
   "outputs": [],
   "source": [
    "df = pd.read_csv(destination_path, encoding='latin-1', sep=',')"
   ]
  },
  {
   "cell_type": "code",
   "execution_count": 5,
   "id": "2e7bb295",
   "metadata": {},
   "outputs": [
    {
     "data": {
      "text/html": [
       "<div>\n",
       "<style scoped>\n",
       "    .dataframe tbody tr th:only-of-type {\n",
       "        vertical-align: middle;\n",
       "    }\n",
       "\n",
       "    .dataframe tbody tr th {\n",
       "        vertical-align: top;\n",
       "    }\n",
       "\n",
       "    .dataframe thead th {\n",
       "        text-align: right;\n",
       "    }\n",
       "</style>\n",
       "<table border=\"1\" class=\"dataframe\">\n",
       "  <thead>\n",
       "    <tr style=\"text-align: right;\">\n",
       "      <th></th>\n",
       "      <th>Data</th>\n",
       "      <th>Otwarcie</th>\n",
       "      <th>Najwyzszy</th>\n",
       "      <th>Najnizszy</th>\n",
       "      <th>Zamkniecie</th>\n",
       "    </tr>\n",
       "  </thead>\n",
       "  <tbody>\n",
       "    <tr>\n",
       "      <th>0</th>\n",
       "      <td>1984-09-24</td>\n",
       "      <td>0.00920</td>\n",
       "      <td>0.00920</td>\n",
       "      <td>0.00920</td>\n",
       "      <td>0.00920</td>\n",
       "    </tr>\n",
       "    <tr>\n",
       "      <th>1</th>\n",
       "      <td>1984-10-01</td>\n",
       "      <td>0.00940</td>\n",
       "      <td>0.00940</td>\n",
       "      <td>0.00940</td>\n",
       "      <td>0.00940</td>\n",
       "    </tr>\n",
       "    <tr>\n",
       "      <th>2</th>\n",
       "      <td>1984-10-08</td>\n",
       "      <td>0.00920</td>\n",
       "      <td>0.00920</td>\n",
       "      <td>0.00920</td>\n",
       "      <td>0.00920</td>\n",
       "    </tr>\n",
       "    <tr>\n",
       "      <th>3</th>\n",
       "      <td>1984-10-15</td>\n",
       "      <td>0.00920</td>\n",
       "      <td>0.00920</td>\n",
       "      <td>0.00920</td>\n",
       "      <td>0.00920</td>\n",
       "    </tr>\n",
       "    <tr>\n",
       "      <th>4</th>\n",
       "      <td>1984-10-22</td>\n",
       "      <td>0.00900</td>\n",
       "      <td>0.00900</td>\n",
       "      <td>0.00900</td>\n",
       "      <td>0.00900</td>\n",
       "    </tr>\n",
       "    <tr>\n",
       "      <th>...</th>\n",
       "      <td>...</td>\n",
       "      <td>...</td>\n",
       "      <td>...</td>\n",
       "      <td>...</td>\n",
       "      <td>...</td>\n",
       "    </tr>\n",
       "    <tr>\n",
       "      <th>8869</th>\n",
       "      <td>2024-04-15</td>\n",
       "      <td>4.28528</td>\n",
       "      <td>4.30810</td>\n",
       "      <td>4.27453</td>\n",
       "      <td>4.30273</td>\n",
       "    </tr>\n",
       "    <tr>\n",
       "      <th>8870</th>\n",
       "      <td>2024-04-16</td>\n",
       "      <td>4.30277</td>\n",
       "      <td>4.37274</td>\n",
       "      <td>4.30277</td>\n",
       "      <td>4.36579</td>\n",
       "    </tr>\n",
       "    <tr>\n",
       "      <th>8871</th>\n",
       "      <td>2024-04-17</td>\n",
       "      <td>4.36598</td>\n",
       "      <td>4.37014</td>\n",
       "      <td>4.32920</td>\n",
       "      <td>4.33716</td>\n",
       "    </tr>\n",
       "    <tr>\n",
       "      <th>8872</th>\n",
       "      <td>2024-04-18</td>\n",
       "      <td>4.33884</td>\n",
       "      <td>4.34065</td>\n",
       "      <td>4.32111</td>\n",
       "      <td>4.33664</td>\n",
       "    </tr>\n",
       "    <tr>\n",
       "      <th>8873</th>\n",
       "      <td>2024-04-19</td>\n",
       "      <td>4.33653</td>\n",
       "      <td>4.36876</td>\n",
       "      <td>4.30885</td>\n",
       "      <td>4.31060</td>\n",
       "    </tr>\n",
       "  </tbody>\n",
       "</table>\n",
       "<p>8874 rows × 5 columns</p>\n",
       "</div>"
      ],
      "text/plain": [
       "            Data  Otwarcie  Najwyzszy  Najnizszy  Zamkniecie\n",
       "0     1984-09-24   0.00920    0.00920    0.00920     0.00920\n",
       "1     1984-10-01   0.00940    0.00940    0.00940     0.00940\n",
       "2     1984-10-08   0.00920    0.00920    0.00920     0.00920\n",
       "3     1984-10-15   0.00920    0.00920    0.00920     0.00920\n",
       "4     1984-10-22   0.00900    0.00900    0.00900     0.00900\n",
       "...          ...       ...        ...        ...         ...\n",
       "8869  2024-04-15   4.28528    4.30810    4.27453     4.30273\n",
       "8870  2024-04-16   4.30277    4.37274    4.30277     4.36579\n",
       "8871  2024-04-17   4.36598    4.37014    4.32920     4.33716\n",
       "8872  2024-04-18   4.33884    4.34065    4.32111     4.33664\n",
       "8873  2024-04-19   4.33653    4.36876    4.30885     4.31060\n",
       "\n",
       "[8874 rows x 5 columns]"
      ]
     },
     "execution_count": 5,
     "metadata": {},
     "output_type": "execute_result"
    }
   ],
   "source": [
    "df"
   ]
  },
  {
   "cell_type": "markdown",
   "id": "72cd1f98",
   "metadata": {},
   "source": [
    "# Perform data manipulations"
   ]
  },
  {
   "cell_type": "code",
   "execution_count": 6,
   "id": "69df36b3",
   "metadata": {},
   "outputs": [],
   "source": [
    "# creating colums (DzienTygodnia\tSkrotDzienTygodnia\tMonth\tShort_Month)\n",
    "df['Data'] = pd.to_datetime(df['Data'])\n",
    "df['DzienTygodnia'] = df['Data'].apply(lambda date: date.strftime('%A'))\n",
    "df['SkrotDzienTygodnia'] = df['DzienTygodnia'].str[:3]\n",
    "df['Month'] = df['Data'].dt.strftime('%B')\n",
    "df['Short_Month'] = df['Month'].str[:3]\n",
    "df = df.sort_values(by='Data', ascending=False)"
   ]
  },
  {
   "cell_type": "code",
   "execution_count": 7,
   "id": "d6dbff3e",
   "metadata": {},
   "outputs": [],
   "source": [
    "#creating colum mean \n",
    "df['mean'] = df[['Otwarcie', 'Najwyzszy', 'Najnizszy', 'Zamkniecie']].mean(axis=1)"
   ]
  },
  {
   "cell_type": "code",
   "execution_count": null,
   "id": "342ab698",
   "metadata": {},
   "outputs": [],
   "source": []
  },
  {
   "cell_type": "code",
   "execution_count": 8,
   "id": "6538c8a9",
   "metadata": {},
   "outputs": [
    {
     "data": {
      "text/html": [
       "<div>\n",
       "<style scoped>\n",
       "    .dataframe tbody tr th:only-of-type {\n",
       "        vertical-align: middle;\n",
       "    }\n",
       "\n",
       "    .dataframe tbody tr th {\n",
       "        vertical-align: top;\n",
       "    }\n",
       "\n",
       "    .dataframe thead th {\n",
       "        text-align: right;\n",
       "    }\n",
       "</style>\n",
       "<table border=\"1\" class=\"dataframe\">\n",
       "  <thead>\n",
       "    <tr style=\"text-align: right;\">\n",
       "      <th></th>\n",
       "      <th>Data</th>\n",
       "      <th>Otwarcie</th>\n",
       "      <th>Najwyzszy</th>\n",
       "      <th>Najnizszy</th>\n",
       "      <th>Zamkniecie</th>\n",
       "      <th>DzienTygodnia</th>\n",
       "      <th>SkrotDzienTygodnia</th>\n",
       "      <th>Month</th>\n",
       "      <th>Short_Month</th>\n",
       "      <th>mean</th>\n",
       "    </tr>\n",
       "  </thead>\n",
       "  <tbody>\n",
       "    <tr>\n",
       "      <th>8873</th>\n",
       "      <td>2024-04-19</td>\n",
       "      <td>4.33653</td>\n",
       "      <td>4.36876</td>\n",
       "      <td>4.30885</td>\n",
       "      <td>4.31060</td>\n",
       "      <td>Friday</td>\n",
       "      <td>Fri</td>\n",
       "      <td>April</td>\n",
       "      <td>Apr</td>\n",
       "      <td>4.331185</td>\n",
       "    </tr>\n",
       "    <tr>\n",
       "      <th>8872</th>\n",
       "      <td>2024-04-18</td>\n",
       "      <td>4.33884</td>\n",
       "      <td>4.34065</td>\n",
       "      <td>4.32111</td>\n",
       "      <td>4.33664</td>\n",
       "      <td>Thursday</td>\n",
       "      <td>Thu</td>\n",
       "      <td>April</td>\n",
       "      <td>Apr</td>\n",
       "      <td>4.334310</td>\n",
       "    </tr>\n",
       "    <tr>\n",
       "      <th>8871</th>\n",
       "      <td>2024-04-17</td>\n",
       "      <td>4.36598</td>\n",
       "      <td>4.37014</td>\n",
       "      <td>4.32920</td>\n",
       "      <td>4.33716</td>\n",
       "      <td>Wednesday</td>\n",
       "      <td>Wed</td>\n",
       "      <td>April</td>\n",
       "      <td>Apr</td>\n",
       "      <td>4.350620</td>\n",
       "    </tr>\n",
       "    <tr>\n",
       "      <th>8870</th>\n",
       "      <td>2024-04-16</td>\n",
       "      <td>4.30277</td>\n",
       "      <td>4.37274</td>\n",
       "      <td>4.30277</td>\n",
       "      <td>4.36579</td>\n",
       "      <td>Tuesday</td>\n",
       "      <td>Tue</td>\n",
       "      <td>April</td>\n",
       "      <td>Apr</td>\n",
       "      <td>4.336017</td>\n",
       "    </tr>\n",
       "    <tr>\n",
       "      <th>8869</th>\n",
       "      <td>2024-04-15</td>\n",
       "      <td>4.28528</td>\n",
       "      <td>4.30810</td>\n",
       "      <td>4.27453</td>\n",
       "      <td>4.30273</td>\n",
       "      <td>Monday</td>\n",
       "      <td>Mon</td>\n",
       "      <td>April</td>\n",
       "      <td>Apr</td>\n",
       "      <td>4.292660</td>\n",
       "    </tr>\n",
       "    <tr>\n",
       "      <th>...</th>\n",
       "      <td>...</td>\n",
       "      <td>...</td>\n",
       "      <td>...</td>\n",
       "      <td>...</td>\n",
       "      <td>...</td>\n",
       "      <td>...</td>\n",
       "      <td>...</td>\n",
       "      <td>...</td>\n",
       "      <td>...</td>\n",
       "      <td>...</td>\n",
       "    </tr>\n",
       "    <tr>\n",
       "      <th>4</th>\n",
       "      <td>1984-10-22</td>\n",
       "      <td>0.00900</td>\n",
       "      <td>0.00900</td>\n",
       "      <td>0.00900</td>\n",
       "      <td>0.00900</td>\n",
       "      <td>Monday</td>\n",
       "      <td>Mon</td>\n",
       "      <td>October</td>\n",
       "      <td>Oct</td>\n",
       "      <td>0.009000</td>\n",
       "    </tr>\n",
       "    <tr>\n",
       "      <th>3</th>\n",
       "      <td>1984-10-15</td>\n",
       "      <td>0.00920</td>\n",
       "      <td>0.00920</td>\n",
       "      <td>0.00920</td>\n",
       "      <td>0.00920</td>\n",
       "      <td>Monday</td>\n",
       "      <td>Mon</td>\n",
       "      <td>October</td>\n",
       "      <td>Oct</td>\n",
       "      <td>0.009200</td>\n",
       "    </tr>\n",
       "    <tr>\n",
       "      <th>2</th>\n",
       "      <td>1984-10-08</td>\n",
       "      <td>0.00920</td>\n",
       "      <td>0.00920</td>\n",
       "      <td>0.00920</td>\n",
       "      <td>0.00920</td>\n",
       "      <td>Monday</td>\n",
       "      <td>Mon</td>\n",
       "      <td>October</td>\n",
       "      <td>Oct</td>\n",
       "      <td>0.009200</td>\n",
       "    </tr>\n",
       "    <tr>\n",
       "      <th>1</th>\n",
       "      <td>1984-10-01</td>\n",
       "      <td>0.00940</td>\n",
       "      <td>0.00940</td>\n",
       "      <td>0.00940</td>\n",
       "      <td>0.00940</td>\n",
       "      <td>Monday</td>\n",
       "      <td>Mon</td>\n",
       "      <td>October</td>\n",
       "      <td>Oct</td>\n",
       "      <td>0.009400</td>\n",
       "    </tr>\n",
       "    <tr>\n",
       "      <th>0</th>\n",
       "      <td>1984-09-24</td>\n",
       "      <td>0.00920</td>\n",
       "      <td>0.00920</td>\n",
       "      <td>0.00920</td>\n",
       "      <td>0.00920</td>\n",
       "      <td>Monday</td>\n",
       "      <td>Mon</td>\n",
       "      <td>September</td>\n",
       "      <td>Sep</td>\n",
       "      <td>0.009200</td>\n",
       "    </tr>\n",
       "  </tbody>\n",
       "</table>\n",
       "<p>8874 rows × 10 columns</p>\n",
       "</div>"
      ],
      "text/plain": [
       "           Data  Otwarcie  Najwyzszy  Najnizszy  Zamkniecie DzienTygodnia  \\\n",
       "8873 2024-04-19   4.33653    4.36876    4.30885     4.31060        Friday   \n",
       "8872 2024-04-18   4.33884    4.34065    4.32111     4.33664      Thursday   \n",
       "8871 2024-04-17   4.36598    4.37014    4.32920     4.33716     Wednesday   \n",
       "8870 2024-04-16   4.30277    4.37274    4.30277     4.36579       Tuesday   \n",
       "8869 2024-04-15   4.28528    4.30810    4.27453     4.30273        Monday   \n",
       "...         ...       ...        ...        ...         ...           ...   \n",
       "4    1984-10-22   0.00900    0.00900    0.00900     0.00900        Monday   \n",
       "3    1984-10-15   0.00920    0.00920    0.00920     0.00920        Monday   \n",
       "2    1984-10-08   0.00920    0.00920    0.00920     0.00920        Monday   \n",
       "1    1984-10-01   0.00940    0.00940    0.00940     0.00940        Monday   \n",
       "0    1984-09-24   0.00920    0.00920    0.00920     0.00920        Monday   \n",
       "\n",
       "     SkrotDzienTygodnia      Month Short_Month      mean  \n",
       "8873                Fri      April         Apr  4.331185  \n",
       "8872                Thu      April         Apr  4.334310  \n",
       "8871                Wed      April         Apr  4.350620  \n",
       "8870                Tue      April         Apr  4.336017  \n",
       "8869                Mon      April         Apr  4.292660  \n",
       "...                 ...        ...         ...       ...  \n",
       "4                   Mon    October         Oct  0.009000  \n",
       "3                   Mon    October         Oct  0.009200  \n",
       "2                   Mon    October         Oct  0.009200  \n",
       "1                   Mon    October         Oct  0.009400  \n",
       "0                   Mon  September         Sep  0.009200  \n",
       "\n",
       "[8874 rows x 10 columns]"
      ]
     },
     "execution_count": 8,
     "metadata": {},
     "output_type": "execute_result"
    }
   ],
   "source": [
    "df"
   ]
  },
  {
   "cell_type": "markdown",
   "id": "b20b7116",
   "metadata": {},
   "source": [
    "# Describe the DataFrame"
   ]
  },
  {
   "cell_type": "code",
   "execution_count": 9,
   "id": "7ff4d93d",
   "metadata": {},
   "outputs": [
    {
     "name": "stdout",
     "output_type": "stream",
     "text": [
      "             count                           mean                  min  \\\n",
      "Data          8874  2006-12-16 22:56:23.367140096  1984-09-24 00:00:00   \n",
      "Otwarcie    8874.0                       3.705524                0.009   \n",
      "Najwyzszy   8874.0                       3.718256                0.009   \n",
      "Najnizszy   8874.0                       3.694353                0.009   \n",
      "Zamkniecie  8874.0                       3.705743                0.009   \n",
      "mean        8874.0                       3.705969                0.009   \n",
      "\n",
      "                            25%                  50%                  75%  \\\n",
      "Data        1998-06-01 06:00:00  2007-01-18 12:00:00  2015-09-20 06:00:00   \n",
      "Otwarcie               3.585575               4.0834             4.298973   \n",
      "Najwyzszy               3.60005              4.10345             4.312745   \n",
      "Najnizszy              3.577025               4.0654               4.2888   \n",
      "Zamkniecie                3.587              4.08375              4.29943   \n",
      "mean                   3.586694             4.084675             4.299769   \n",
      "\n",
      "                            max       std  \n",
      "Data        2024-04-19 00:00:00       NaN  \n",
      "Otwarcie                4.98193   1.04138  \n",
      "Najwyzszy               5.00341  1.047382  \n",
      "Najnizszy               4.90592  1.036134  \n",
      "Zamkniecie              4.98145   1.04148  \n",
      "mean                   4.949192  1.041544  \n"
     ]
    }
   ],
   "source": [
    "des = df.describe().transpose()\n",
    "print(des)"
   ]
  },
  {
   "cell_type": "markdown",
   "id": "620dc494",
   "metadata": {},
   "source": [
    "# Check missing values"
   ]
  },
  {
   "cell_type": "code",
   "execution_count": 10,
   "id": "68fdae6f",
   "metadata": {},
   "outputs": [
    {
     "name": "stdout",
     "output_type": "stream",
     "text": [
      "Data                  0\n",
      "Otwarcie              0\n",
      "Najwyzszy             0\n",
      "Najnizszy             0\n",
      "Zamkniecie            0\n",
      "DzienTygodnia         0\n",
      "SkrotDzienTygodnia    0\n",
      "Month                 0\n",
      "Short_Month           0\n",
      "mean                  0\n",
      "dtype: int64\n"
     ]
    }
   ],
   "source": [
    "missing_values = df.isnull().sum()\n",
    "print(missing_values)"
   ]
  },
  {
   "cell_type": "markdown",
   "id": "8ee68b1f",
   "metadata": {},
   "source": [
    "# Check data types\n",
    "be sure u have same types of data in ur sql "
   ]
  },
  {
   "cell_type": "code",
   "execution_count": 11,
   "id": "b98a95d4",
   "metadata": {
    "scrolled": true
   },
   "outputs": [
    {
     "name": "stdout",
     "output_type": "stream",
     "text": [
      "Data                  datetime64[ns]\n",
      "Otwarcie                     float64\n",
      "Najwyzszy                    float64\n",
      "Najnizszy                    float64\n",
      "Zamkniecie                   float64\n",
      "DzienTygodnia                 object\n",
      "SkrotDzienTygodnia            object\n",
      "Month                         object\n",
      "Short_Month                   object\n",
      "mean                         float64\n",
      "dtype: object\n"
     ]
    }
   ],
   "source": [
    "data_types = df.dtypes\n",
    "print(data_types)\n"
   ]
  },
  {
   "cell_type": "markdown",
   "id": "3ac26dc2",
   "metadata": {},
   "source": [
    "# Export DataFrame to a text file"
   ]
  },
  {
   "cell_type": "code",
   "execution_count": 12,
   "id": "66027257",
   "metadata": {},
   "outputs": [],
   "source": [
    "y = [tuple(row) for row in df.to_records(index=False)]\n",
    "with open('file_import.txt', 'w') as file:\n",
    "        for row_tuple in y:\n",
    "            file.write(str(row_tuple) + ',\\n')\n"
   ]
  },
  {
   "cell_type": "markdown",
   "id": "c938890a",
   "metadata": {},
   "source": [
    "# Connect to MySQL database\n",
    "- Host: [**Your Host IP**]\n",
    "- Port:port 2 connect\n",
    "- User: root\n",
    "- Password: [**Your Password**] (or No password if empty)\n",
    "- Database: Name of database"
   ]
  },
  {
   "cell_type": "code",
   "execution_count": 13,
   "id": "f6094050",
   "metadata": {},
   "outputs": [],
   "source": [
    "conn = mysql.connector.connect(\n",
    "    host='127.0.0.1',\n",
    "    port=3306,\n",
    "    user='root',\n",
    "    password='',\n",
    "    database='Euro'\n",
    ")"
   ]
  },
  {
   "cell_type": "code",
   "execution_count": 14,
   "id": "a04475f3",
   "metadata": {},
   "outputs": [],
   "source": [
    "cursor = conn.cursor()"
   ]
  },
  {
   "cell_type": "markdown",
   "id": "071a414a",
   "metadata": {},
   "source": [
    "# Truncate existing table\n",
    "- (Name of ur table in data_base)"
   ]
  },
  {
   "cell_type": "code",
   "execution_count": 15,
   "id": "d0bf2a26",
   "metadata": {},
   "outputs": [],
   "source": [
    "cursor.execute(\"TRUNCATE TABLE euro_kurs\")"
   ]
  },
  {
   "cell_type": "markdown",
   "id": "cbbf31a9",
   "metadata": {},
   "source": [
    "# Prepare and execute SQL INSERT statement\n",
    "- make sure u have same numbers of columns - %s "
   ]
  },
  {
   "cell_type": "code",
   "execution_count": 16,
   "id": "99400fb3",
   "metadata": {},
   "outputs": [],
   "source": [
    "sql = \"INSERT INTO euro_kurs VALUES (%s, %s, %s, %s, %s, %s, %s, %s, %s, %s )\""
   ]
  },
  {
   "cell_type": "markdown",
   "id": "e123d9c8",
   "metadata": {},
   "source": [
    "# Execute the SQL statement using your MySQL connection"
   ]
  },
  {
   "cell_type": "code",
   "execution_count": null,
   "id": "4a8baae3-094c-433d-b37d-85544bfd0919",
   "metadata": {},
   "outputs": [],
   "source": []
  },
  {
   "cell_type": "code",
   "execution_count": 17,
   "id": "986aa8f9",
   "metadata": {},
   "outputs": [],
   "source": [
    "for row_tuple in df.itertuples(index=False):\n",
    "    # Convert timestamp to string in a format recognized by MySQL\n",
    "    row_tuple = tuple(\n",
    "        val.strftime('%Y-%m-%d %H:%M:%S') if isinstance(val, pd.Timestamp) else val\n",
    "        if not isinstance(val, (np.float64, np.int64)) else float(val)\n",
    "        for val in row_tuple\n",
    "    )\n",
    "    cursor.execute(sql, row_tuple)\n"
   ]
  },
  {
   "cell_type": "markdown",
   "id": "6f157aa0",
   "metadata": {},
   "source": [
    "# Commit the changes to the database\n"
   ]
  },
  {
   "cell_type": "code",
   "execution_count": 18,
   "id": "db3be66e",
   "metadata": {},
   "outputs": [],
   "source": [
    "conn.commit()"
   ]
  },
  {
   "cell_type": "markdown",
   "id": "85753c0c",
   "metadata": {},
   "source": [
    "# Close the cursor and connection\n"
   ]
  },
  {
   "cell_type": "code",
   "execution_count": 19,
   "id": "3dc3f7af",
   "metadata": {},
   "outputs": [],
   "source": [
    "cursor.close()\n",
    "conn.close()"
   ]
  },
  {
   "cell_type": "code",
   "execution_count": null,
   "id": "de767f5c",
   "metadata": {},
   "outputs": [],
   "source": []
  },
  {
   "cell_type": "code",
   "execution_count": 20,
   "id": "8ab2b69b",
   "metadata": {},
   "outputs": [
    {
     "data": {
      "image/png": "[encoded data removed]",
      "text/plain": [
       "<Figure size 640x480 with 1 Axes>"
      ]
     },
     "metadata": {},
     "output_type": "display_data"
    }
   ],
   "source": [
    "import matplotlib.pyplot as plt\n",
    "\n",
    "# Przykładowe dane\n",
    "# (Zakładam, że masz już wczytany DataFrame df z odpowiednimi danymi.)\n",
    "std_dev = df['Zamkniecie'].rolling(window=20).std()\n",
    "sma = df['Zamkniecie'].rolling(window=20).mean()\n",
    "\n",
    "lower_band = sma - 2 * std_dev\n",
    "lower_band = lower_band.rename(\"lower band\")\n",
    "\n",
    "upper_band = sma + 2 * std_dev\n",
    "upper_band = upper_band.rename(\"upper band\")\n",
    "\n",
    "# Convert Series to DataFrame and add suffixes to column names\n",
    "upper_band_df = upper_band.to_frame()\n",
    "upper_band_df.columns = [f\"{col}_upper\" for col in upper_band_df.columns]\n",
    "\n",
    "lower_band_df = lower_band.to_frame()\n",
    "lower_band_df.columns = [f\"{col}_lower\" for col in lower_band_df.columns]\n",
    "\n",
    "# Create a copy of df to avoid modifying the original DataFrame\n",
    "df_copy = df.copy()\n",
    "\n",
    "df_copy = df_copy.join(upper_band_df).join(lower_band_df)\n",
    "\n",
    "# set data from 2019 \n",
    "start_date = '2019-01-01'\n",
    "end_date = df_copy['Data'].max()\n",
    "df_copy = df_copy[(df_copy['Data'] >= start_date) & (df_copy['Data'] <= end_date)]\n",
    "\n",
    "ax = df_copy.plot(x='Data', y='Zamkniecie', label='Zamkniecie', color='black')\n",
    "ax.plot(df_copy['Data'], df_copy['upper band_upper'], label='Upper Band', color='green')\n",
    "ax.plot(df_copy['Data'], df_copy['lower band_lower'], label='Lower Band', color='red')\n",
    "\n",
    "ax.fill_between(df_copy['Data'], df_copy['lower band_lower'], df_copy['upper band_upper'], color='g', alpha=0.15)\n",
    "ax.set_xlabel('Date')\n",
    "ax.set_ylabel('Price')\n",
    "ax.grid()\n",
    "ax.legend()\n",
    "\n",
    "plt.show(block=True)\n",
    "\n"
   ]
  },
  {
   "cell_type": "code",
   "execution_count": 21,
   "id": "11405b7f-2e9d-4998-9939-59d355b186a4",
   "metadata": {},
   "outputs": [],
   "source": [
    "from sklearn.model_selection import train_test_split\n",
    "\n",
    "# Select the features and target variable\n",
    "# Assuming you want to predict the 'Zamkniecie' column based on other columns\n",
    "features = df[['Otwarcie', 'Najwyzszy', 'Najnizszy']]\n",
    "target = df['Zamkniecie']\n",
    "\n",
    "# Split the data into training and testing sets\n",
    "# Here, 80% of the data will be used for training, and 20% for testing\n",
    "X_train, X_test, y_train, y_test = train_test_split(features, target, test_size=0.2, random_state=42)\n",
    "\n",
    "# X_train: Training features\n",
    "# X_test: Testing features\n",
    "# y_train: Training target variable\n",
    "# y_test: Testing target variable"
   ]
  },
  {
   "cell_type": "code",
   "execution_count": 22,
   "id": "72589861-5ff7-40ed-9b5c-98a57b01bc92",
   "metadata": {},
   "outputs": [
    {
     "ename": "KeyError",
     "evalue": "\"None of [Index(['Feature1', 'Feature2', 'Feature3'], dtype='object')] are in the [columns]\"",
     "output_type": "error",
     "traceback": [
      "\u001b[1;31m---------------------------------------------------------------------------\u001b[0m",
      "\u001b[1;31mKeyError\u001b[0m                                  Traceback (most recent call last)",
      "Cell \u001b[1;32mIn[22], line 11\u001b[0m\n\u001b[0;32m      8\u001b[0m df\u001b[38;5;241m.\u001b[39mcolumns \u001b[38;5;241m=\u001b[39m df\u001b[38;5;241m.\u001b[39mcolumns\u001b[38;5;241m.\u001b[39mstr\u001b[38;5;241m.\u001b[39mstrip()\n\u001b[0;32m     10\u001b[0m \u001b[38;5;66;03m# Select the features and target variable\u001b[39;00m\n\u001b[1;32m---> 11\u001b[0m features \u001b[38;5;241m=\u001b[39m df[[\u001b[38;5;124m'\u001b[39m\u001b[38;5;124mFeature1\u001b[39m\u001b[38;5;124m'\u001b[39m, \u001b[38;5;124m'\u001b[39m\u001b[38;5;124mFeature2\u001b[39m\u001b[38;5;124m'\u001b[39m, \u001b[38;5;124m'\u001b[39m\u001b[38;5;124mFeature3\u001b[39m\u001b[38;5;124m'\u001b[39m]]\n\u001b[0;32m     12\u001b[0m target \u001b[38;5;241m=\u001b[39m df[\u001b[38;5;124m'\u001b[39m\u001b[38;5;124mTarget\u001b[39m\u001b[38;5;124m'\u001b[39m]\n\u001b[0;32m     14\u001b[0m \u001b[38;5;66;03m# Split the data into training and testing sets\u001b[39;00m\n",
      "File \u001b[1;32m~\\new_conda\\Lib\\site-packages\\pandas\\core\\frame.py:3899\u001b[0m, in \u001b[0;36mDataFrame.__getitem__\u001b[1;34m(self, key)\u001b[0m\n\u001b[0;32m   3897\u001b[0m     \u001b[38;5;28;01mif\u001b[39;00m is_iterator(key):\n\u001b[0;32m   3898\u001b[0m         key \u001b[38;5;241m=\u001b[39m \u001b[38;5;28mlist\u001b[39m(key)\n\u001b[1;32m-> 3899\u001b[0m     indexer \u001b[38;5;241m=\u001b[39m \u001b[38;5;28mself\u001b[39m\u001b[38;5;241m.\u001b[39mcolumns\u001b[38;5;241m.\u001b[39m_get_indexer_strict(key, \u001b[38;5;124m\"\u001b[39m\u001b[38;5;124mcolumns\u001b[39m\u001b[38;5;124m\"\u001b[39m)[\u001b[38;5;241m1\u001b[39m]\n\u001b[0;32m   3901\u001b[0m \u001b[38;5;66;03m# take() does not accept boolean indexers\u001b[39;00m\n\u001b[0;32m   3902\u001b[0m \u001b[38;5;28;01mif\u001b[39;00m \u001b[38;5;28mgetattr\u001b[39m(indexer, \u001b[38;5;124m\"\u001b[39m\u001b[38;5;124mdtype\u001b[39m\u001b[38;5;124m\"\u001b[39m, \u001b[38;5;28;01mNone\u001b[39;00m) \u001b[38;5;241m==\u001b[39m \u001b[38;5;28mbool\u001b[39m:\n",
      "File \u001b[1;32m~\\new_conda\\Lib\\site-packages\\pandas\\core\\indexes\\base.py:6115\u001b[0m, in \u001b[0;36mIndex._get_indexer_strict\u001b[1;34m(self, key, axis_name)\u001b[0m\n\u001b[0;32m   6112\u001b[0m \u001b[38;5;28;01melse\u001b[39;00m:\n\u001b[0;32m   6113\u001b[0m     keyarr, indexer, new_indexer \u001b[38;5;241m=\u001b[39m \u001b[38;5;28mself\u001b[39m\u001b[38;5;241m.\u001b[39m_reindex_non_unique(keyarr)\n\u001b[1;32m-> 6115\u001b[0m \u001b[38;5;28mself\u001b[39m\u001b[38;5;241m.\u001b[39m_raise_if_missing(keyarr, indexer, axis_name)\n\u001b[0;32m   6117\u001b[0m keyarr \u001b[38;5;241m=\u001b[39m \u001b[38;5;28mself\u001b[39m\u001b[38;5;241m.\u001b[39mtake(indexer)\n\u001b[0;32m   6118\u001b[0m \u001b[38;5;28;01mif\u001b[39;00m \u001b[38;5;28misinstance\u001b[39m(key, Index):\n\u001b[0;32m   6119\u001b[0m     \u001b[38;5;66;03m# GH 42790 - Preserve name from an Index\u001b[39;00m\n",
      "File \u001b[1;32m~\\new_conda\\Lib\\site-packages\\pandas\\core\\indexes\\base.py:6176\u001b[0m, in \u001b[0;36mIndex._raise_if_missing\u001b[1;34m(self, key, indexer, axis_name)\u001b[0m\n\u001b[0;32m   6174\u001b[0m     \u001b[38;5;28;01mif\u001b[39;00m use_interval_msg:\n\u001b[0;32m   6175\u001b[0m         key \u001b[38;5;241m=\u001b[39m \u001b[38;5;28mlist\u001b[39m(key)\n\u001b[1;32m-> 6176\u001b[0m     \u001b[38;5;28;01mraise\u001b[39;00m \u001b[38;5;167;01mKeyError\u001b[39;00m(\u001b[38;5;124mf\u001b[39m\u001b[38;5;124m\"\u001b[39m\u001b[38;5;124mNone of [\u001b[39m\u001b[38;5;132;01m{\u001b[39;00mkey\u001b[38;5;132;01m}\u001b[39;00m\u001b[38;5;124m] are in the [\u001b[39m\u001b[38;5;132;01m{\u001b[39;00maxis_name\u001b[38;5;132;01m}\u001b[39;00m\u001b[38;5;124m]\u001b[39m\u001b[38;5;124m\"\u001b[39m)\n\u001b[0;32m   6178\u001b[0m not_found \u001b[38;5;241m=\u001b[39m \u001b[38;5;28mlist\u001b[39m(ensure_index(key)[missing_mask\u001b[38;5;241m.\u001b[39mnonzero()[\u001b[38;5;241m0\u001b[39m]]\u001b[38;5;241m.\u001b[39munique())\n\u001b[0;32m   6179\u001b[0m \u001b[38;5;28;01mraise\u001b[39;00m \u001b[38;5;167;01mKeyError\u001b[39;00m(\u001b[38;5;124mf\u001b[39m\u001b[38;5;124m\"\u001b[39m\u001b[38;5;132;01m{\u001b[39;00mnot_found\u001b[38;5;132;01m}\u001b[39;00m\u001b[38;5;124m not in index\u001b[39m\u001b[38;5;124m\"\u001b[39m)\n",
      "\u001b[1;31mKeyError\u001b[0m: \"None of [Index(['Feature1', 'Feature2', 'Feature3'], dtype='object')] are in the [columns]\""
     ]
    }
   ],
   "source": [
    "from sklearn.linear_model import LinearRegression\n",
    "from sklearn.metrics import mean_squared_error\n",
    "from sklearn.model_selection import train_test_split\n",
    "import pandas as pd\n",
    "\n",
    "# Load the dataset (assuming a CSV file)\n",
    "df = pd.read_csv('C:/Users/48575/jupyter_netbook_curs/portfolio/euro/eurpln_d.csv', delimiter=';')\n",
    "df.columns = df.columns.str.strip()\n",
    "\n",
    "# Select the features and target variable\n",
    "features = df[['Feature1', 'Feature2', 'Feature3']]\n",
    "target = df['Target']\n",
    "\n",
    "# Split the data into training and testing sets\n",
    "X_train, X_test, y_train, y_test = train_test_split(features, target, test_size=0.2, random_state=42)\n",
    "\n",
    "# Create a Linear Regression model\n",
    "model = LinearRegression()\n",
    "\n",
    "# Train the model\n",
    "model.fit(X_train, y_train)\n",
    "\n",
    "# Make predictions on the testing set\n",
    "y_pred = model.predict(X_test)\n",
    "\n",
    "# Evaluate the model\n",
    "mse = mean_squared_error(y_test, y_pred)\n",
    "print('Mean Squared Error:', mse)\n",
    "df.columns = df.columns.str.strip()"
   ]
  },
  {
   "cell_type": "code",
   "execution_count": null,
   "id": "6e42134a-1853-4993-85c6-3810de280272",
   "metadata": {},
   "outputs": [],
   "source": []
  },
  {
   "cell_type": "code",
   "execution_count": null,
   "id": "393c653b-d8f7-4c82-be1d-d380ce1b1093",
   "metadata": {},
   "outputs": [],
   "source": [
    "df"
   ]
  },
  {
   "cell_type": "code",
   "execution_count": null,
   "id": "b88877bc-fc98-4dbd-b409-979b4ac189ea",
   "metadata": {},
   "outputs": [],
   "source": []
  }
 ],
 "metadata": {
  "kernelspec": {
   "display_name": "Python 3 (ipykernel)",
   "language": "python",
   "name": "python3"
  },
  "language_info": {
   "codemirror_mode": {
    "name": "ipython",
    "version": 3
   },
   "file_extension": ".py",
   "mimetype": "text/x-python",
   "name": "python",
   "nbconvert_exporter": "python",
   "pygments_lexer": "ipython3",
   "version": "3.11.7"
  }
 },
 "nbformat": 4,
 "nbformat_minor": 5
}
